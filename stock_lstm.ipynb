{
 "cells": [
  {
   "cell_type": "markdown",
   "metadata": {},
   "source": [
    "# Import Necessary Libraries"
   ]
  },
  {
   "cell_type": "code",
   "execution_count": null,
   "metadata": {},
   "outputs": [],
   "source": [
    "import yfinance as yf\n",
    "import pandas as pd\n",
    "import numpy as np\n",
    "import matplotlib.pyplot as plt\n",
    "import math\n",
    "from sklearn.preprocessing import MinMaxScaler\n",
    "from keras.models import Sequential\n",
    "from keras.layers import Dense, LSTM, Dropout\n",
    "import warnings\n",
    "warnings.filterwarnings(\"ignore\")\n"
   ]
  },
  {
   "cell_type": "markdown",
   "metadata": {},
   "source": [
    "# Access Data\n",
    "###  Enter the stock ticker, starting date, and ending date. Noted that the first 80% of the date will be used for training, whereas the last 20% will be used for validation.\n",
    "##### Example Inputs: \"googl\", \"2010-01-01\" , \"2023-09-12\""
   ]
  },
  {
   "cell_type": "code",
   "execution_count": null,
   "metadata": {},
   "outputs": [],
   "source": [
    "Ticker_Symbol = input(\"Ticker of the Stock: \")\n",
    "Start_Date = input(\"Start(YYYY-MM-DD): \")\n",
    "End_Date = input(\"End(YYYY-MM-DD): \")"
   ]
  },
  {
   "cell_type": "markdown",
   "metadata": {},
   "source": [
    "# Data Exploration"
   ]
  },
  {
   "cell_type": "code",
   "execution_count": null,
   "metadata": {},
   "outputs": [],
   "source": [
    "#Download the necessary data given the ticker, start and ending date\n",
    "Data = yf.download(Ticker_Symbol, Start_Date, End_Date)\n",
    "#Reset the index since the default has the index as \"Date\"\n",
    "Data = Data.reset_index()\n",
    "Data"
   ]
  },
  {
   "cell_type": "code",
   "execution_count": null,
   "metadata": {},
   "outputs": [],
   "source": [
    "#Check the data type of each column, and see if the memory usage could be further minimized, but here it already has been minimized so there's no use in doing so\n",
    "Data.info()"
   ]
  },
  {
   "cell_type": "code",
   "execution_count": null,
   "metadata": {},
   "outputs": [],
   "source": [
    "#Check for missing data\n",
    "Data.isnull().sum()"
   ]
  },
  {
   "cell_type": "markdown",
   "metadata": {},
   "source": [
    "# Data Visualization"
   ]
  },
  {
   "cell_type": "markdown",
   "metadata": {},
   "source": [
    "### Stock Price"
   ]
  },
  {
   "cell_type": "code",
   "execution_count": null,
   "metadata": {},
   "outputs": [],
   "source": [
    "#See the trend of the stock based on the closing price:\n",
    "fig, ax = plt.subplots(figsize=(12,6))\n",
    "plt.title(\"Closing Stock Price on Each Day\")\n",
    "ax.plot(Data[\"Date\"], Data[\"Close\"], \"b-\")\n",
    "ax.set_ylabel(\"Stock Price\")\n",
    "ax.set_xlabel(\"Day\")\n",
    "plt.grid()\n",
    "plt.show()"
   ]
  },
  {
   "cell_type": "markdown",
   "metadata": {},
   "source": [
    "### Moving Average"
   ]
  },
  {
   "cell_type": "code",
   "execution_count": null,
   "metadata": {},
   "outputs": [],
   "source": [
    "#Calculate the moving average of the stock\n",
    "MA60 = Data.Close.rolling(60).mean()\n",
    "MA250 = Data.Close.rolling(250).mean()\n",
    "fig, ax = plt.subplots(figsize = (12,6))\n",
    "plt.plot(Data.Close, \"b-\", label = \"Closing Price\")\n",
    "plt.plot(MA60, \"r-\", label = \"MA60\")\n",
    "plt.plot(MA250, \"g-\", label = \"MA250\")\n",
    "plt.legend()\n",
    "plt.title(\"Stock Price\")\n",
    "plt.grid()\n",
    "plt.show()"
   ]
  },
  {
   "cell_type": "markdown",
   "metadata": {},
   "source": [
    "### Volume"
   ]
  },
  {
   "cell_type": "code",
   "execution_count": null,
   "metadata": {},
   "outputs": [],
   "source": [
    "fig, ax = plt.subplots(figsize = (12,6))\n",
    "ax.bar(Data.Date, Data.Volume)\n",
    "ax.set_ylabel(\"Volume\")\n",
    "ax.set_xlabel(\"Date\")\n",
    "plt.title(\"Volume Chart\")\n",
    "plt.grid()\n",
    "plt.show()"
   ]
  },
  {
   "cell_type": "markdown",
   "metadata": {},
   "source": [
    "### Daily Return"
   ]
  },
  {
   "cell_type": "code",
   "execution_count": null,
   "metadata": {},
   "outputs": [],
   "source": [
    "#How much Close Price changes from One day to the Next\n",
    "Data[\"Daily_Return\"] = Data[\"Close\"].pct_change()\n",
    "Data[\"Daily_Return\"]"
   ]
  },
  {
   "cell_type": "code",
   "execution_count": null,
   "metadata": {},
   "outputs": [],
   "source": [
    "fig, ax = plt.subplots(figsize = (12,6))\n",
    "plt.title(\"Stock Price Daily Return\")\n",
    "ax.plot(Data.Date, Data.Daily_Return)\n",
    "ax.set_ylabel(\"Daily Return in %\")\n",
    "plt.grid()\n",
    "\n",
    "plt.show()"
   ]
  },
  {
   "cell_type": "code",
   "execution_count": null,
   "metadata": {},
   "outputs": [],
   "source": [
    "#Distribution of Daily Return(Volatility)\n",
    "Data.iloc[Data[\"Daily_Return\"].argmax()] #find index location of the highest daily return\n",
    "Data[\"Daily_Return\"].hist(bins=100, color=\"blue\")\n",
    "plt.show()"
   ]
  },
  {
   "cell_type": "markdown",
   "metadata": {},
   "source": [
    "### Cumulative Return"
   ]
  },
  {
   "cell_type": "code",
   "execution_count": null,
   "metadata": {},
   "outputs": [],
   "source": [
    "Data[\"Cumulative_Return\"] = (1 + Data[\"Daily_Return\"]).cumprod() - 1\n",
    "Data[\"Cumulative_Return\"]"
   ]
  },
  {
   "cell_type": "code",
   "execution_count": null,
   "metadata": {},
   "outputs": [],
   "source": [
    "fig, ax = plt.subplots(figsize = (12,6))\n",
    "ax.plot(Data[\"Date\"],Data[\"Cumulative_Return\"], \"-g\")\n",
    "ax.set_title(\"Cumulative Daily Return\")\n",
    "ax.set_ylabel(\"Cumulative Daily Return (%)\")\n",
    "plt.grid()\n",
    "plt.show()"
   ]
  },
  {
   "cell_type": "markdown",
   "metadata": {},
   "source": [
    "# Data Preprocessing"
   ]
  },
  {
   "cell_type": "markdown",
   "metadata": {},
   "source": [
    "### Splitting Data into Training and Validation Sets"
   ]
  },
  {
   "cell_type": "code",
   "execution_count": null,
   "metadata": {},
   "outputs": [],
   "source": [
    "Data.set_index('Date', inplace=True)\n",
    "Data "
   ]
  },
  {
   "cell_type": "code",
   "execution_count": null,
   "metadata": {},
   "outputs": [],
   "source": [
    "# 70 % will be used for Training\n",
    "Close = Data[\"Close\"]\n",
    "Close_Value = Close.values\n",
    "Close_Value = Close_Value.reshape(-1,1)\n",
    "Training_Data_Leng = math.ceil(len(Close_Value) * 0.7)\n",
    "Training_Data_Leng\n",
    "\n"
   ]
  },
  {
   "cell_type": "markdown",
   "metadata": {},
   "source": [
    "### Scaling Data"
   ]
  },
  {
   "cell_type": "code",
   "execution_count": null,
   "metadata": {},
   "outputs": [],
   "source": [
    "scaler = MinMaxScaler(feature_range=(0,1))\n",
    "PriceData = scaler.fit_transform(Close_Value)\n",
    "PriceData"
   ]
  },
  {
   "cell_type": "markdown",
   "metadata": {},
   "source": [
    "### Creating Sequences"
   ]
  },
  {
   "cell_type": "code",
   "execution_count": null,
   "metadata": {},
   "outputs": [],
   "source": [
    "X_train, Y_train = [], []\n",
    "Backcandles = 60\n",
    "TrainData = PriceData[:Training_Data_Leng]\n",
    "for i in range(Backcandles, len(TrainData)):\n",
    "    X_train.append(TrainData[i - Backcandles : i, 0])\n",
    "    Y_train.append(TrainData[i,0])\n",
    "X_train, Y_train = np.array(X_train), np.array(Y_train)\n",
    "print(X_train.shape, Y_train.shape)"
   ]
  },
  {
   "cell_type": "code",
   "execution_count": null,
   "metadata": {},
   "outputs": [],
   "source": []
  },
  {
   "cell_type": "markdown",
   "metadata": {},
   "source": [
    "# Model Building, Compiling, Training"
   ]
  },
  {
   "cell_type": "code",
   "execution_count": null,
   "metadata": {},
   "outputs": [],
   "source": [
    "Model = Sequential([\n",
    "    LSTM(50, return_sequences = True, input_shape = (X_train.shape[1], 1)),\n",
    "    (Dropout(0.2)),\n",
    "    LSTM((50)),\n",
    "    (Dropout(0.2)),\n",
    "    (Dense(32)),\n",
    "    (Dense(1))\n",
    "])\n",
    "Model.compile(optimizer = \"adam\", loss = \"mean_squared_error\")\n",
    "Model.fit(X_train,Y_train, batch_size = 32, epochs = 10)"
   ]
  },
  {
   "cell_type": "code",
   "execution_count": null,
   "metadata": {},
   "outputs": [],
   "source": [
    "Model.summary()"
   ]
  },
  {
   "cell_type": "code",
   "execution_count": null,
   "metadata": {},
   "outputs": [],
   "source": [
    "Test_Data = PriceData[Training_Data_Leng - Backcandles:, :]\n",
    "x_test, y_test = [], Close_Value[Training_Data_Leng:, :]\n",
    "for i in range(Backcandles, len(Test_Data)):\n",
    "    x_test.append(Test_Data[i-Backcandles:i, 0])\n",
    "x_test = np.array(x_test)\n",
    "x_test = np.reshape(x_test, (x_test.shape[0], x_test.shape[1], 1))\n",
    "x_test.shape"
   ]
  },
  {
   "cell_type": "markdown",
   "metadata": {},
   "source": [
    "# Results of Prediction"
   ]
  },
  {
   "cell_type": "code",
   "execution_count": null,
   "metadata": {},
   "outputs": [],
   "source": [
    "Pred = Model.predict(x_test)\n",
    "Pred = scaler.inverse_transform(Pred)\n",
    "RMSE = np.sqrt(np.mean(Pred- y_test) ** 2)\n",
    "RMSE\n"
   ]
  },
  {
   "cell_type": "markdown",
   "metadata": {},
   "source": [
    "### Prediction Results"
   ]
  },
  {
   "cell_type": "code",
   "execution_count": null,
   "metadata": {},
   "outputs": [],
   "source": [
    "TrainSet, ValidSet = Close[:Training_Data_Leng], Close[Training_Data_Leng:]\n",
    "ValidSet = pd.DataFrame(ValidSet)\n",
    "ValidSet[\"Prediction\"] = Pred\n",
    "ValidSet"
   ]
  },
  {
   "cell_type": "code",
   "execution_count": null,
   "metadata": {},
   "outputs": [],
   "source": [
    "ValidSet.reset_index()"
   ]
  },
  {
   "cell_type": "markdown",
   "metadata": {},
   "source": [
    "### Visualization Results"
   ]
  },
  {
   "cell_type": "code",
   "execution_count": null,
   "metadata": {},
   "outputs": [],
   "source": [
    "plt.figure(figsize=(12,8))\n",
    "plt.plot(ValidSet[\"Close\"], \"blueviolet\")\n",
    "plt.plot(ValidSet[\"Prediction\"], \"red\")\n",
    "plt.legend([\"Actual Price\", \"Prediction\"])\n",
    "plt.ylabel(\"Price in USD\")\n",
    "plt.title(\"Predicted Stock Market Price vs Actual Price\")\n",
    "plt.show()"
   ]
  },
  {
   "cell_type": "code",
   "execution_count": null,
   "metadata": {},
   "outputs": [],
   "source": [
    "pip install streamlit"
   ]
  }
 ],
 "metadata": {
  "kernelspec": {
   "display_name": "Python 3",
   "language": "python",
   "name": "python3"
  },
  "language_info": {
   "codemirror_mode": {
    "name": "ipython",
    "version": 3
   },
   "file_extension": ".py",
   "mimetype": "text/x-python",
   "name": "python",
   "nbconvert_exporter": "python",
   "pygments_lexer": "ipython3",
   "version": "3.8.10"
  },
  "orig_nbformat": 4
 },
 "nbformat": 4,
 "nbformat_minor": 2
}
